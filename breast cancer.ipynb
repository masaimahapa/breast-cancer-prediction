{
 "cells": [
  {
   "cell_type": "markdown",
   "metadata": {},
   "source": [
    "# Predict Breast Cancer\n",
    "In this assignment, the goal is to predict if someone has cancer or not. To do this, I will build a binary classifier with the logistic regression model. \n",
    "\n",
    "The 10 features in the dataset are from images taken from breast samples. These contain biological attributes of the cancer cell nuclei."
   ]
  },
  {
   "cell_type": "code",
   "execution_count": 1,
   "metadata": {},
   "outputs": [],
   "source": [
    "import pandas as pd\n",
    "import seaborn as sns\n",
    "import matplotlib.pyplot as plt\n",
    "import numpy as np"
   ]
  },
  {
   "cell_type": "markdown",
   "metadata": {},
   "source": [
    "### read the data"
   ]
  },
  {
   "cell_type": "code",
   "execution_count": 2,
   "metadata": {},
   "outputs": [
    {
     "data": {
      "text/html": [
       "<div>\n",
       "<style scoped>\n",
       "    .dataframe tbody tr th:only-of-type {\n",
       "        vertical-align: middle;\n",
       "    }\n",
       "\n",
       "    .dataframe tbody tr th {\n",
       "        vertical-align: top;\n",
       "    }\n",
       "\n",
       "    .dataframe thead th {\n",
       "        text-align: right;\n",
       "    }\n",
       "</style>\n",
       "<table border=\"1\" class=\"dataframe\">\n",
       "  <thead>\n",
       "    <tr style=\"text-align: right;\">\n",
       "      <th></th>\n",
       "      <th>1</th>\n",
       "      <th>2</th>\n",
       "      <th>3</th>\n",
       "      <th>4</th>\n",
       "      <th>5</th>\n",
       "      <th>6</th>\n",
       "      <th>7</th>\n",
       "      <th>8</th>\n",
       "      <th>9</th>\n",
       "      <th>10</th>\n",
       "    </tr>\n",
       "    <tr>\n",
       "      <th>0</th>\n",
       "      <th></th>\n",
       "      <th></th>\n",
       "      <th></th>\n",
       "      <th></th>\n",
       "      <th></th>\n",
       "      <th></th>\n",
       "      <th></th>\n",
       "      <th></th>\n",
       "      <th></th>\n",
       "      <th></th>\n",
       "    </tr>\n",
       "  </thead>\n",
       "  <tbody>\n",
       "    <tr>\n",
       "      <th>1000025</th>\n",
       "      <td>5</td>\n",
       "      <td>1</td>\n",
       "      <td>1</td>\n",
       "      <td>1</td>\n",
       "      <td>2</td>\n",
       "      <td>1</td>\n",
       "      <td>3</td>\n",
       "      <td>1</td>\n",
       "      <td>1</td>\n",
       "      <td>2</td>\n",
       "    </tr>\n",
       "    <tr>\n",
       "      <th>1002945</th>\n",
       "      <td>5</td>\n",
       "      <td>4</td>\n",
       "      <td>4</td>\n",
       "      <td>5</td>\n",
       "      <td>7</td>\n",
       "      <td>10</td>\n",
       "      <td>3</td>\n",
       "      <td>2</td>\n",
       "      <td>1</td>\n",
       "      <td>2</td>\n",
       "    </tr>\n",
       "    <tr>\n",
       "      <th>1015425</th>\n",
       "      <td>3</td>\n",
       "      <td>1</td>\n",
       "      <td>1</td>\n",
       "      <td>1</td>\n",
       "      <td>2</td>\n",
       "      <td>2</td>\n",
       "      <td>3</td>\n",
       "      <td>1</td>\n",
       "      <td>1</td>\n",
       "      <td>2</td>\n",
       "    </tr>\n",
       "    <tr>\n",
       "      <th>1016277</th>\n",
       "      <td>6</td>\n",
       "      <td>8</td>\n",
       "      <td>8</td>\n",
       "      <td>1</td>\n",
       "      <td>3</td>\n",
       "      <td>4</td>\n",
       "      <td>3</td>\n",
       "      <td>7</td>\n",
       "      <td>1</td>\n",
       "      <td>2</td>\n",
       "    </tr>\n",
       "    <tr>\n",
       "      <th>1017023</th>\n",
       "      <td>4</td>\n",
       "      <td>1</td>\n",
       "      <td>1</td>\n",
       "      <td>3</td>\n",
       "      <td>2</td>\n",
       "      <td>1</td>\n",
       "      <td>3</td>\n",
       "      <td>1</td>\n",
       "      <td>1</td>\n",
       "      <td>2</td>\n",
       "    </tr>\n",
       "  </tbody>\n",
       "</table>\n",
       "</div>"
      ],
      "text/plain": [
       "         1   2   3   4   5   6   7   8   9   10\n",
       "0                                              \n",
       "1000025   5   1   1   1   2   1   3   1   1   2\n",
       "1002945   5   4   4   5   7  10   3   2   1   2\n",
       "1015425   3   1   1   1   2   2   3   1   1   2\n",
       "1016277   6   8   8   1   3   4   3   7   1   2\n",
       "1017023   4   1   1   3   2   1   3   1   1   2"
      ]
     },
     "execution_count": 2,
     "metadata": {},
     "output_type": "execute_result"
    }
   ],
   "source": [
    "df= pd.read_csv('data/cancer.data', header=None, index_col=0)\n",
    "df.head()"
   ]
  },
  {
   "cell_type": "markdown",
   "metadata": {},
   "source": [
    "### rename the columns for readability"
   ]
  },
  {
   "cell_type": "code",
   "execution_count": 3,
   "metadata": {},
   "outputs": [
    {
     "data": {
      "text/html": [
       "<div>\n",
       "<style scoped>\n",
       "    .dataframe tbody tr th:only-of-type {\n",
       "        vertical-align: middle;\n",
       "    }\n",
       "\n",
       "    .dataframe tbody tr th {\n",
       "        vertical-align: top;\n",
       "    }\n",
       "\n",
       "    .dataframe thead th {\n",
       "        text-align: right;\n",
       "    }\n",
       "</style>\n",
       "<table border=\"1\" class=\"dataframe\">\n",
       "  <thead>\n",
       "    <tr style=\"text-align: right;\">\n",
       "      <th></th>\n",
       "      <th>clump_thickness</th>\n",
       "      <th>uniformity_of_cell_size</th>\n",
       "      <th>uniformity_of_cell_shape</th>\n",
       "      <th>marginal_adhesion</th>\n",
       "      <th>single_epithelial_cell_size</th>\n",
       "      <th>bare_nuclei</th>\n",
       "      <th>bland_chromatin</th>\n",
       "      <th>normal_nucleoli</th>\n",
       "      <th>mitoses</th>\n",
       "      <th>class</th>\n",
       "    </tr>\n",
       "    <tr>\n",
       "      <th>0</th>\n",
       "      <th></th>\n",
       "      <th></th>\n",
       "      <th></th>\n",
       "      <th></th>\n",
       "      <th></th>\n",
       "      <th></th>\n",
       "      <th></th>\n",
       "      <th></th>\n",
       "      <th></th>\n",
       "      <th></th>\n",
       "    </tr>\n",
       "  </thead>\n",
       "  <tbody>\n",
       "    <tr>\n",
       "      <th>1000025</th>\n",
       "      <td>5</td>\n",
       "      <td>1</td>\n",
       "      <td>1</td>\n",
       "      <td>1</td>\n",
       "      <td>2</td>\n",
       "      <td>1</td>\n",
       "      <td>3</td>\n",
       "      <td>1</td>\n",
       "      <td>1</td>\n",
       "      <td>2</td>\n",
       "    </tr>\n",
       "    <tr>\n",
       "      <th>1002945</th>\n",
       "      <td>5</td>\n",
       "      <td>4</td>\n",
       "      <td>4</td>\n",
       "      <td>5</td>\n",
       "      <td>7</td>\n",
       "      <td>10</td>\n",
       "      <td>3</td>\n",
       "      <td>2</td>\n",
       "      <td>1</td>\n",
       "      <td>2</td>\n",
       "    </tr>\n",
       "    <tr>\n",
       "      <th>1015425</th>\n",
       "      <td>3</td>\n",
       "      <td>1</td>\n",
       "      <td>1</td>\n",
       "      <td>1</td>\n",
       "      <td>2</td>\n",
       "      <td>2</td>\n",
       "      <td>3</td>\n",
       "      <td>1</td>\n",
       "      <td>1</td>\n",
       "      <td>2</td>\n",
       "    </tr>\n",
       "    <tr>\n",
       "      <th>1016277</th>\n",
       "      <td>6</td>\n",
       "      <td>8</td>\n",
       "      <td>8</td>\n",
       "      <td>1</td>\n",
       "      <td>3</td>\n",
       "      <td>4</td>\n",
       "      <td>3</td>\n",
       "      <td>7</td>\n",
       "      <td>1</td>\n",
       "      <td>2</td>\n",
       "    </tr>\n",
       "    <tr>\n",
       "      <th>1017023</th>\n",
       "      <td>4</td>\n",
       "      <td>1</td>\n",
       "      <td>1</td>\n",
       "      <td>3</td>\n",
       "      <td>2</td>\n",
       "      <td>1</td>\n",
       "      <td>3</td>\n",
       "      <td>1</td>\n",
       "      <td>1</td>\n",
       "      <td>2</td>\n",
       "    </tr>\n",
       "  </tbody>\n",
       "</table>\n",
       "</div>"
      ],
      "text/plain": [
       "         clump_thickness  uniformity_of_cell_size  uniformity_of_cell_shape  \\\n",
       "0                                                                             \n",
       "1000025                5                        1                         1   \n",
       "1002945                5                        4                         4   \n",
       "1015425                3                        1                         1   \n",
       "1016277                6                        8                         8   \n",
       "1017023                4                        1                         1   \n",
       "\n",
       "         marginal_adhesion  single_epithelial_cell_size bare_nuclei  \\\n",
       "0                                                                     \n",
       "1000025                  1                            2           1   \n",
       "1002945                  5                            7          10   \n",
       "1015425                  1                            2           2   \n",
       "1016277                  1                            3           4   \n",
       "1017023                  3                            2           1   \n",
       "\n",
       "         bland_chromatin  normal_nucleoli  mitoses  class  \n",
       "0                                                          \n",
       "1000025                3                1        1      2  \n",
       "1002945                3                2        1      2  \n",
       "1015425                3                1        1      2  \n",
       "1016277                3                7        1      2  \n",
       "1017023                3                1        1      2  "
      ]
     },
     "execution_count": 3,
     "metadata": {},
     "output_type": "execute_result"
    }
   ],
   "source": [
    "df= df.rename(columns={1:'clump_thickness', 2:'uniformity_of_cell_size', 3:'uniformity_of_cell_shape',\n",
    "                  4:'marginal_adhesion', 5:'single_epithelial_cell_size',6:'bare_nuclei',\n",
    "                   7:'bland_chromatin', 8: 'normal_nucleoli', 9:'mitoses',\n",
    "                   10:'class'})\n",
    "df.head()"
   ]
  },
  {
   "cell_type": "code",
   "execution_count": 4,
   "metadata": {},
   "outputs": [
    {
     "name": "stdout",
     "output_type": "stream",
     "text": [
      "<class 'pandas.core.frame.DataFrame'>\n",
      "Int64Index: 699 entries, 1000025 to 897471\n",
      "Data columns (total 10 columns):\n",
      "clump_thickness                699 non-null int64\n",
      "uniformity_of_cell_size        699 non-null int64\n",
      "uniformity_of_cell_shape       699 non-null int64\n",
      "marginal_adhesion              699 non-null int64\n",
      "single_epithelial_cell_size    699 non-null int64\n",
      "bare_nuclei                    699 non-null object\n",
      "bland_chromatin                699 non-null int64\n",
      "normal_nucleoli                699 non-null int64\n",
      "mitoses                        699 non-null int64\n",
      "class                          699 non-null int64\n",
      "dtypes: int64(9), object(1)\n",
      "memory usage: 60.1+ KB\n"
     ]
    }
   ],
   "source": [
    "df.info()"
   ]
  },
  {
   "cell_type": "markdown",
   "metadata": {},
   "source": [
    "From the basic information of the data seen above;\n",
    "\n",
    "* 699 entries\n",
    "* 10 columns\n",
    "* 1 type object column and 9 int64."
   ]
  },
  {
   "cell_type": "markdown",
   "metadata": {},
   "source": [
    "###  bare  nuclei (object type)\n",
    "bare nuclei is of an object type instead of an integer. It is worth looking into why it is so. What kind of entries does it have? As strings would have to be preprocessed differently compared to integers."
   ]
  },
  {
   "cell_type": "code",
   "execution_count": 5,
   "metadata": {},
   "outputs": [
    {
     "data": {
      "text/plain": [
       "1     402\n",
       "10    132\n",
       "5      30\n",
       "2      30\n",
       "3      28\n",
       "8      21\n",
       "4      19\n",
       "?      16\n",
       "9       9\n",
       "7       8\n",
       "6       4\n",
       "Name: bare_nuclei, dtype: int64"
      ]
     },
     "execution_count": 5,
     "metadata": {},
     "output_type": "execute_result"
    }
   ],
   "source": [
    "df['bare_nuclei'].value_counts()"
   ]
  },
  {
   "cell_type": "markdown",
   "metadata": {},
   "source": [
    "16 '?'s spotted in the column. This is a sign of missing values. \n",
    "\n",
    "Since there are only 10 possible values, I will replace the missing values with the most common occuring digit. In this case it is 1.\n",
    "\n",
    "Thereafter since all the values would be numbers, change the column type from object to integer.\n",
    "\n"
   ]
  },
  {
   "cell_type": "code",
   "execution_count": 6,
   "metadata": {},
   "outputs": [
    {
     "data": {
      "text/plain": [
       "array([ 1, 10,  2,  4,  3,  9,  7,  5,  8,  6])"
      ]
     },
     "execution_count": 6,
     "metadata": {},
     "output_type": "execute_result"
    }
   ],
   "source": [
    "most_common=df['bare_nuclei'].value_counts().index[0]\n",
    "df['bare_nuclei']= df['bare_nuclei'].replace('?', most_common).astype('int64')\n",
    "\n",
    "df['bare_nuclei'].unique()"
   ]
  },
  {
   "cell_type": "markdown",
   "metadata": {},
   "source": [
    "### descriptive statistics"
   ]
  },
  {
   "cell_type": "code",
   "execution_count": 7,
   "metadata": {},
   "outputs": [
    {
     "data": {
      "text/html": [
       "<div>\n",
       "<style scoped>\n",
       "    .dataframe tbody tr th:only-of-type {\n",
       "        vertical-align: middle;\n",
       "    }\n",
       "\n",
       "    .dataframe tbody tr th {\n",
       "        vertical-align: top;\n",
       "    }\n",
       "\n",
       "    .dataframe thead th {\n",
       "        text-align: right;\n",
       "    }\n",
       "</style>\n",
       "<table border=\"1\" class=\"dataframe\">\n",
       "  <thead>\n",
       "    <tr style=\"text-align: right;\">\n",
       "      <th></th>\n",
       "      <th>clump_thickness</th>\n",
       "      <th>uniformity_of_cell_size</th>\n",
       "      <th>uniformity_of_cell_shape</th>\n",
       "      <th>marginal_adhesion</th>\n",
       "      <th>single_epithelial_cell_size</th>\n",
       "      <th>bare_nuclei</th>\n",
       "      <th>bland_chromatin</th>\n",
       "      <th>normal_nucleoli</th>\n",
       "      <th>mitoses</th>\n",
       "      <th>class</th>\n",
       "    </tr>\n",
       "  </thead>\n",
       "  <tbody>\n",
       "    <tr>\n",
       "      <th>count</th>\n",
       "      <td>699.000000</td>\n",
       "      <td>699.000000</td>\n",
       "      <td>699.000000</td>\n",
       "      <td>699.000000</td>\n",
       "      <td>699.000000</td>\n",
       "      <td>699.000000</td>\n",
       "      <td>699.000000</td>\n",
       "      <td>699.000000</td>\n",
       "      <td>699.000000</td>\n",
       "      <td>699.000000</td>\n",
       "    </tr>\n",
       "    <tr>\n",
       "      <th>mean</th>\n",
       "      <td>4.417740</td>\n",
       "      <td>3.134478</td>\n",
       "      <td>3.207439</td>\n",
       "      <td>2.806867</td>\n",
       "      <td>3.216023</td>\n",
       "      <td>3.486409</td>\n",
       "      <td>3.437768</td>\n",
       "      <td>2.866953</td>\n",
       "      <td>1.589413</td>\n",
       "      <td>2.689557</td>\n",
       "    </tr>\n",
       "    <tr>\n",
       "      <th>std</th>\n",
       "      <td>2.815741</td>\n",
       "      <td>3.051459</td>\n",
       "      <td>2.971913</td>\n",
       "      <td>2.855379</td>\n",
       "      <td>2.214300</td>\n",
       "      <td>3.621929</td>\n",
       "      <td>2.438364</td>\n",
       "      <td>3.053634</td>\n",
       "      <td>1.715078</td>\n",
       "      <td>0.951273</td>\n",
       "    </tr>\n",
       "    <tr>\n",
       "      <th>min</th>\n",
       "      <td>1.000000</td>\n",
       "      <td>1.000000</td>\n",
       "      <td>1.000000</td>\n",
       "      <td>1.000000</td>\n",
       "      <td>1.000000</td>\n",
       "      <td>1.000000</td>\n",
       "      <td>1.000000</td>\n",
       "      <td>1.000000</td>\n",
       "      <td>1.000000</td>\n",
       "      <td>2.000000</td>\n",
       "    </tr>\n",
       "    <tr>\n",
       "      <th>25%</th>\n",
       "      <td>2.000000</td>\n",
       "      <td>1.000000</td>\n",
       "      <td>1.000000</td>\n",
       "      <td>1.000000</td>\n",
       "      <td>2.000000</td>\n",
       "      <td>1.000000</td>\n",
       "      <td>2.000000</td>\n",
       "      <td>1.000000</td>\n",
       "      <td>1.000000</td>\n",
       "      <td>2.000000</td>\n",
       "    </tr>\n",
       "    <tr>\n",
       "      <th>50%</th>\n",
       "      <td>4.000000</td>\n",
       "      <td>1.000000</td>\n",
       "      <td>1.000000</td>\n",
       "      <td>1.000000</td>\n",
       "      <td>2.000000</td>\n",
       "      <td>1.000000</td>\n",
       "      <td>3.000000</td>\n",
       "      <td>1.000000</td>\n",
       "      <td>1.000000</td>\n",
       "      <td>2.000000</td>\n",
       "    </tr>\n",
       "    <tr>\n",
       "      <th>75%</th>\n",
       "      <td>6.000000</td>\n",
       "      <td>5.000000</td>\n",
       "      <td>5.000000</td>\n",
       "      <td>4.000000</td>\n",
       "      <td>4.000000</td>\n",
       "      <td>5.000000</td>\n",
       "      <td>5.000000</td>\n",
       "      <td>4.000000</td>\n",
       "      <td>1.000000</td>\n",
       "      <td>4.000000</td>\n",
       "    </tr>\n",
       "    <tr>\n",
       "      <th>max</th>\n",
       "      <td>10.000000</td>\n",
       "      <td>10.000000</td>\n",
       "      <td>10.000000</td>\n",
       "      <td>10.000000</td>\n",
       "      <td>10.000000</td>\n",
       "      <td>10.000000</td>\n",
       "      <td>10.000000</td>\n",
       "      <td>10.000000</td>\n",
       "      <td>10.000000</td>\n",
       "      <td>4.000000</td>\n",
       "    </tr>\n",
       "  </tbody>\n",
       "</table>\n",
       "</div>"
      ],
      "text/plain": [
       "       clump_thickness  uniformity_of_cell_size  uniformity_of_cell_shape  \\\n",
       "count       699.000000               699.000000                699.000000   \n",
       "mean          4.417740                 3.134478                  3.207439   \n",
       "std           2.815741                 3.051459                  2.971913   \n",
       "min           1.000000                 1.000000                  1.000000   \n",
       "25%           2.000000                 1.000000                  1.000000   \n",
       "50%           4.000000                 1.000000                  1.000000   \n",
       "75%           6.000000                 5.000000                  5.000000   \n",
       "max          10.000000                10.000000                 10.000000   \n",
       "\n",
       "       marginal_adhesion  single_epithelial_cell_size  bare_nuclei  \\\n",
       "count         699.000000                   699.000000   699.000000   \n",
       "mean            2.806867                     3.216023     3.486409   \n",
       "std             2.855379                     2.214300     3.621929   \n",
       "min             1.000000                     1.000000     1.000000   \n",
       "25%             1.000000                     2.000000     1.000000   \n",
       "50%             1.000000                     2.000000     1.000000   \n",
       "75%             4.000000                     4.000000     5.000000   \n",
       "max            10.000000                    10.000000    10.000000   \n",
       "\n",
       "       bland_chromatin  normal_nucleoli     mitoses       class  \n",
       "count       699.000000       699.000000  699.000000  699.000000  \n",
       "mean          3.437768         2.866953    1.589413    2.689557  \n",
       "std           2.438364         3.053634    1.715078    0.951273  \n",
       "min           1.000000         1.000000    1.000000    2.000000  \n",
       "25%           2.000000         1.000000    1.000000    2.000000  \n",
       "50%           3.000000         1.000000    1.000000    2.000000  \n",
       "75%           5.000000         4.000000    1.000000    4.000000  \n",
       "max          10.000000        10.000000   10.000000    4.000000  "
      ]
     },
     "execution_count": 7,
     "metadata": {},
     "output_type": "execute_result"
    }
   ],
   "source": [
    "df.describe()"
   ]
  },
  {
   "cell_type": "markdown",
   "metadata": {},
   "source": [
    "Looking at the basic stats presented above, all the values range from 1-10 so there are no strange out of bound entries."
   ]
  },
  {
   "cell_type": "markdown",
   "metadata": {},
   "source": [
    "## Split the features from the target variable"
   ]
  },
  {
   "cell_type": "code",
   "execution_count": 8,
   "metadata": {},
   "outputs": [
    {
     "name": "stdout",
     "output_type": "stream",
     "text": [
      "the features take on the shape (699, 9)\n",
      "the target takes on the shape (699,)\n"
     ]
    }
   ],
   "source": [
    "X= df.drop('class', axis=1)\n",
    "y=df['class']\n",
    "\n",
    "print(f'the features take on the shape {X.shape}')\n",
    "print(f'the target takes on the shape {y.shape}')"
   ]
  },
  {
   "cell_type": "code",
   "execution_count": 9,
   "metadata": {},
   "outputs": [
    {
     "data": {
      "image/png": "[encoded data removed]",
      "text/plain": [
       "<Figure size 1296x792 with 9 Axes>"
      ]
     },
     "metadata": {
      "needs_background": "light"
     },
     "output_type": "display_data"
    }
   ],
   "source": [
    "X.hist(figsize=(18,11))\n",
    "plt.show()"
   ]
  },
  {
   "cell_type": "code",
   "execution_count": 10,
   "metadata": {},
   "outputs": [
    {
     "data": {
      "text/plain": [
       "<matplotlib.axes._subplots.AxesSubplot at 0x7f4efc8cfa20>"
      ]
     },
     "execution_count": 10,
     "metadata": {},
     "output_type": "execute_result"
    },
    {
     "data": {
      "image/png": "[encoded data removed]",
      "text/plain": [
       "<Figure size 432x288 with 1 Axes>"
      ]
     },
     "metadata": {
      "needs_background": "light"
     },
     "output_type": "display_data"
    }
   ],
   "source": [
    "sns.distplot(y)"
   ]
  },
  {
   "cell_type": "code",
   "execution_count": 11,
   "metadata": {},
   "outputs": [
    {
     "data": {
      "text/plain": [
       "2.6895565092989986"
      ]
     },
     "execution_count": 11,
     "metadata": {},
     "output_type": "execute_result"
    }
   ],
   "source": [
    "y.mean()"
   ]
  },
  {
   "cell_type": "markdown",
   "metadata": {},
   "source": [
    "Looking at most of the features, we see that they for the most part are skewed to the left and none of them have a normal distribution."
   ]
  },
  {
   "cell_type": "markdown",
   "metadata": {},
   "source": [
    "## count of target variables\n",
    "* 0: benign (good)\n",
    "* 1: malignant (bad)"
   ]
  },
  {
   "cell_type": "code",
   "execution_count": 12,
   "metadata": {},
   "outputs": [],
   "source": [
    "digit_to_binary={\n",
    "    2:0,\n",
    "    4:1\n",
    "}\n",
    "\n",
    "y= y.map(digit_to_binary)\n"
   ]
  },
  {
   "cell_type": "code",
   "execution_count": 13,
   "metadata": {},
   "outputs": [
    {
     "data": {
      "text/plain": [
       "<matplotlib.axes._subplots.AxesSubplot at 0x7f4efc87ab70>"
      ]
     },
     "execution_count": 13,
     "metadata": {},
     "output_type": "execute_result"
    },
    {
     "data": {
      "image/png": "[encoded data removed]",
      "text/plain": [
       "<Figure size 432x288 with 1 Axes>"
      ]
     },
     "metadata": {
      "needs_background": "light"
     },
     "output_type": "display_data"
    }
   ],
   "source": [
    "sns.countplot(y)"
   ]
  },
  {
   "cell_type": "markdown",
   "metadata": {},
   "source": [
    "# Correlation"
   ]
  },
  {
   "cell_type": "code",
   "execution_count": 14,
   "metadata": {},
   "outputs": [
    {
     "data": {
      "text/plain": [
       "<matplotlib.axes._subplots.AxesSubplot at 0x7f4efc8527f0>"
      ]
     },
     "execution_count": 14,
     "metadata": {},
     "output_type": "execute_result"
    },
    {
     "data": {
      "image/png": "[encoded data removed]",
      "text/plain": [
       "<Figure size 432x288 with 2 Axes>"
      ]
     },
     "metadata": {
      "needs_background": "light"
     },
     "output_type": "display_data"
    }
   ],
   "source": [
    "sns.heatmap(df.corr())"
   ]
  },
  {
   "cell_type": "code",
   "execution_count": 15,
   "metadata": {},
   "outputs": [
    {
     "data": {
      "text/html": [
       "<div>\n",
       "<style scoped>\n",
       "    .dataframe tbody tr th:only-of-type {\n",
       "        vertical-align: middle;\n",
       "    }\n",
       "\n",
       "    .dataframe tbody tr th {\n",
       "        vertical-align: top;\n",
       "    }\n",
       "\n",
       "    .dataframe thead th {\n",
       "        text-align: right;\n",
       "    }\n",
       "</style>\n",
       "<table border=\"1\" class=\"dataframe\">\n",
       "  <thead>\n",
       "    <tr style=\"text-align: right;\">\n",
       "      <th></th>\n",
       "      <th>clump_thickness</th>\n",
       "      <th>uniformity_of_cell_size</th>\n",
       "      <th>uniformity_of_cell_shape</th>\n",
       "      <th>marginal_adhesion</th>\n",
       "      <th>single_epithelial_cell_size</th>\n",
       "      <th>bare_nuclei</th>\n",
       "      <th>bland_chromatin</th>\n",
       "      <th>normal_nucleoli</th>\n",
       "      <th>mitoses</th>\n",
       "      <th>class</th>\n",
       "    </tr>\n",
       "  </thead>\n",
       "  <tbody>\n",
       "    <tr>\n",
       "      <th>clump_thickness</th>\n",
       "      <td>1.000000</td>\n",
       "      <td>0.644913</td>\n",
       "      <td>0.654589</td>\n",
       "      <td>0.486356</td>\n",
       "      <td>0.521816</td>\n",
       "      <td>0.590008</td>\n",
       "      <td>0.558428</td>\n",
       "      <td>0.535835</td>\n",
       "      <td>0.350034</td>\n",
       "      <td>0.716001</td>\n",
       "    </tr>\n",
       "    <tr>\n",
       "      <th>uniformity_of_cell_size</th>\n",
       "      <td>0.644913</td>\n",
       "      <td>1.000000</td>\n",
       "      <td>0.906882</td>\n",
       "      <td>0.705582</td>\n",
       "      <td>0.751799</td>\n",
       "      <td>0.686673</td>\n",
       "      <td>0.755721</td>\n",
       "      <td>0.722865</td>\n",
       "      <td>0.458693</td>\n",
       "      <td>0.817904</td>\n",
       "    </tr>\n",
       "    <tr>\n",
       "      <th>uniformity_of_cell_shape</th>\n",
       "      <td>0.654589</td>\n",
       "      <td>0.906882</td>\n",
       "      <td>1.000000</td>\n",
       "      <td>0.683079</td>\n",
       "      <td>0.719668</td>\n",
       "      <td>0.707474</td>\n",
       "      <td>0.735948</td>\n",
       "      <td>0.719446</td>\n",
       "      <td>0.438911</td>\n",
       "      <td>0.818934</td>\n",
       "    </tr>\n",
       "    <tr>\n",
       "      <th>marginal_adhesion</th>\n",
       "      <td>0.486356</td>\n",
       "      <td>0.705582</td>\n",
       "      <td>0.683079</td>\n",
       "      <td>1.000000</td>\n",
       "      <td>0.599599</td>\n",
       "      <td>0.666971</td>\n",
       "      <td>0.666715</td>\n",
       "      <td>0.603352</td>\n",
       "      <td>0.417633</td>\n",
       "      <td>0.696800</td>\n",
       "    </tr>\n",
       "    <tr>\n",
       "      <th>single_epithelial_cell_size</th>\n",
       "      <td>0.521816</td>\n",
       "      <td>0.751799</td>\n",
       "      <td>0.719668</td>\n",
       "      <td>0.599599</td>\n",
       "      <td>1.000000</td>\n",
       "      <td>0.583701</td>\n",
       "      <td>0.616102</td>\n",
       "      <td>0.628881</td>\n",
       "      <td>0.479101</td>\n",
       "      <td>0.682785</td>\n",
       "    </tr>\n",
       "    <tr>\n",
       "      <th>bare_nuclei</th>\n",
       "      <td>0.590008</td>\n",
       "      <td>0.686673</td>\n",
       "      <td>0.707474</td>\n",
       "      <td>0.666971</td>\n",
       "      <td>0.583701</td>\n",
       "      <td>1.000000</td>\n",
       "      <td>0.674215</td>\n",
       "      <td>0.574778</td>\n",
       "      <td>0.342397</td>\n",
       "      <td>0.818968</td>\n",
       "    </tr>\n",
       "    <tr>\n",
       "      <th>bland_chromatin</th>\n",
       "      <td>0.558428</td>\n",
       "      <td>0.755721</td>\n",
       "      <td>0.735948</td>\n",
       "      <td>0.666715</td>\n",
       "      <td>0.616102</td>\n",
       "      <td>0.674215</td>\n",
       "      <td>1.000000</td>\n",
       "      <td>0.665878</td>\n",
       "      <td>0.344169</td>\n",
       "      <td>0.756616</td>\n",
       "    </tr>\n",
       "    <tr>\n",
       "      <th>normal_nucleoli</th>\n",
       "      <td>0.535835</td>\n",
       "      <td>0.722865</td>\n",
       "      <td>0.719446</td>\n",
       "      <td>0.603352</td>\n",
       "      <td>0.628881</td>\n",
       "      <td>0.574778</td>\n",
       "      <td>0.665878</td>\n",
       "      <td>1.000000</td>\n",
       "      <td>0.428336</td>\n",
       "      <td>0.712244</td>\n",
       "    </tr>\n",
       "    <tr>\n",
       "      <th>mitoses</th>\n",
       "      <td>0.350034</td>\n",
       "      <td>0.458693</td>\n",
       "      <td>0.438911</td>\n",
       "      <td>0.417633</td>\n",
       "      <td>0.479101</td>\n",
       "      <td>0.342397</td>\n",
       "      <td>0.344169</td>\n",
       "      <td>0.428336</td>\n",
       "      <td>1.000000</td>\n",
       "      <td>0.423170</td>\n",
       "    </tr>\n",
       "    <tr>\n",
       "      <th>class</th>\n",
       "      <td>0.716001</td>\n",
       "      <td>0.817904</td>\n",
       "      <td>0.818934</td>\n",
       "      <td>0.696800</td>\n",
       "      <td>0.682785</td>\n",
       "      <td>0.818968</td>\n",
       "      <td>0.756616</td>\n",
       "      <td>0.712244</td>\n",
       "      <td>0.423170</td>\n",
       "      <td>1.000000</td>\n",
       "    </tr>\n",
       "  </tbody>\n",
       "</table>\n",
       "</div>"
      ],
      "text/plain": [
       "                             clump_thickness  uniformity_of_cell_size  \\\n",
       "clump_thickness                     1.000000                 0.644913   \n",
       "uniformity_of_cell_size             0.644913                 1.000000   \n",
       "uniformity_of_cell_shape            0.654589                 0.906882   \n",
       "marginal_adhesion                   0.486356                 0.705582   \n",
       "single_epithelial_cell_size         0.521816                 0.751799   \n",
       "bare_nuclei                         0.590008                 0.686673   \n",
       "bland_chromatin                     0.558428                 0.755721   \n",
       "normal_nucleoli                     0.535835                 0.722865   \n",
       "mitoses                             0.350034                 0.458693   \n",
       "class                               0.716001                 0.817904   \n",
       "\n",
       "                             uniformity_of_cell_shape  marginal_adhesion  \\\n",
       "clump_thickness                              0.654589           0.486356   \n",
       "uniformity_of_cell_size                      0.906882           0.705582   \n",
       "uniformity_of_cell_shape                     1.000000           0.683079   \n",
       "marginal_adhesion                            0.683079           1.000000   \n",
       "single_epithelial_cell_size                  0.719668           0.599599   \n",
       "bare_nuclei                                  0.707474           0.666971   \n",
       "bland_chromatin                              0.735948           0.666715   \n",
       "normal_nucleoli                              0.719446           0.603352   \n",
       "mitoses                                      0.438911           0.417633   \n",
       "class                                        0.818934           0.696800   \n",
       "\n",
       "                             single_epithelial_cell_size  bare_nuclei  \\\n",
       "clump_thickness                                 0.521816     0.590008   \n",
       "uniformity_of_cell_size                         0.751799     0.686673   \n",
       "uniformity_of_cell_shape                        0.719668     0.707474   \n",
       "marginal_adhesion                               0.599599     0.666971   \n",
       "single_epithelial_cell_size                     1.000000     0.583701   \n",
       "bare_nuclei                                     0.583701     1.000000   \n",
       "bland_chromatin                                 0.616102     0.674215   \n",
       "normal_nucleoli                                 0.628881     0.574778   \n",
       "mitoses                                         0.479101     0.342397   \n",
       "class                                           0.682785     0.818968   \n",
       "\n",
       "                             bland_chromatin  normal_nucleoli   mitoses  \\\n",
       "clump_thickness                     0.558428         0.535835  0.350034   \n",
       "uniformity_of_cell_size             0.755721         0.722865  0.458693   \n",
       "uniformity_of_cell_shape            0.735948         0.719446  0.438911   \n",
       "marginal_adhesion                   0.666715         0.603352  0.417633   \n",
       "single_epithelial_cell_size         0.616102         0.628881  0.479101   \n",
       "bare_nuclei                         0.674215         0.574778  0.342397   \n",
       "bland_chromatin                     1.000000         0.665878  0.344169   \n",
       "normal_nucleoli                     0.665878         1.000000  0.428336   \n",
       "mitoses                             0.344169         0.428336  1.000000   \n",
       "class                               0.756616         0.712244  0.423170   \n",
       "\n",
       "                                class  \n",
       "clump_thickness              0.716001  \n",
       "uniformity_of_cell_size      0.817904  \n",
       "uniformity_of_cell_shape     0.818934  \n",
       "marginal_adhesion            0.696800  \n",
       "single_epithelial_cell_size  0.682785  \n",
       "bare_nuclei                  0.818968  \n",
       "bland_chromatin              0.756616  \n",
       "normal_nucleoli              0.712244  \n",
       "mitoses                      0.423170  \n",
       "class                        1.000000  "
      ]
     },
     "execution_count": 15,
     "metadata": {},
     "output_type": "execute_result"
    }
   ],
   "source": [
    "df.corr()"
   ]
  },
  {
   "cell_type": "markdown",
   "metadata": {},
   "source": [
    "### split the data"
   ]
  },
  {
   "cell_type": "code",
   "execution_count": 16,
   "metadata": {},
   "outputs": [],
   "source": [
    "from sklearn.model_selection import train_test_split\n",
    "\n",
    "X_train, X_test, y_train, y_test= train_test_split(X, y, test_size=0.3, random_state=42)"
   ]
  },
  {
   "cell_type": "markdown",
   "metadata": {},
   "source": [
    "## base model"
   ]
  },
  {
   "cell_type": "code",
   "execution_count": 17,
   "metadata": {},
   "outputs": [
    {
     "name": "stderr",
     "output_type": "stream",
     "text": [
      "/home/masai/anaconda3/lib/python3.7/site-packages/sklearn/linear_model/logistic.py:432: FutureWarning: Default solver will be changed to 'lbfgs' in 0.22. Specify a solver to silence this warning.\n",
      "  FutureWarning)\n"
     ]
    }
   ],
   "source": [
    "from sklearn.linear_model import LogisticRegression\n",
    "log_reg= LogisticRegression()\n",
    "log_reg.fit(X_train, y_train)\n",
    "\n",
    "y_preds= log_reg.predict(X_test)"
   ]
  },
  {
   "cell_type": "code",
   "execution_count": 18,
   "metadata": {},
   "outputs": [
    {
     "name": "stdout",
     "output_type": "stream",
     "text": [
      "Perfomance of base model:\n",
      "[[141   5]\n",
      " [  2  62]]\n",
      "\n",
      "accuracy: 0.9666666666666667\n",
      "recall: 0.96875\n",
      "f1 score: 0.9465648854961832\n"
     ]
    }
   ],
   "source": [
    "from sklearn.metrics import confusion_matrix, accuracy_score, recall_score, f1_score\n",
    "\n",
    "print('Perfomance of base model:')\n",
    "\n",
    "print(confusion_matrix(y_preds, y_test))\n",
    "print('')\n",
    "\n",
    "print(f'accuracy: {accuracy_score(y_test, y_preds)}')\n",
    "print(f'recall: {recall_score( y_preds, y_test)}')\n",
    "print(f'f1 score: {f1_score( y_preds, y_test)}')"
   ]
  },
  {
   "cell_type": "markdown",
   "metadata": {},
   "source": [
    "Straight of the bat, the model has an accuracy of almost 97%. This is really impressive, given the very little amount of preprocessing done.\n",
    "Hopefully this is not by random chance. Below we will check how significant the features are towards prediciting the correct class."
   ]
  },
  {
   "cell_type": "markdown",
   "metadata": {},
   "source": [
    "# statistical significance of features\n",
    "I will use the p-value of each feature to measure it's importance towards building the model"
   ]
  },
  {
   "cell_type": "code",
   "execution_count": 19,
   "metadata": {},
   "outputs": [
    {
     "name": "stdout",
     "output_type": "stream",
     "text": [
      "Optimization terminated successfully.\n",
      "         Current function value: 0.374565\n",
      "         Iterations 8\n"
     ]
    },
    {
     "data": {
      "text/html": [
       "<table class=\"simpletable\">\n",
       "<caption>Logit Regression Results</caption>\n",
       "<tr>\n",
       "  <th>Dep. Variable:</th>         <td>class</td>      <th>  No. Observations:  </th>  <td>   489</td>  \n",
       "</tr>\n",
       "<tr>\n",
       "  <th>Model:</th>                 <td>Logit</td>      <th>  Df Residuals:      </th>  <td>   480</td>  \n",
       "</tr>\n",
       "<tr>\n",
       "  <th>Method:</th>                 <td>MLE</td>       <th>  Df Model:          </th>  <td>     8</td>  \n",
       "</tr>\n",
       "<tr>\n",
       "  <th>Date:</th>            <td>Tue, 14 Apr 2020</td> <th>  Pseudo R-squ.:     </th>  <td>0.4246</td>  \n",
       "</tr>\n",
       "<tr>\n",
       "  <th>Time:</th>                <td>14:47:48</td>     <th>  Log-Likelihood:    </th> <td> -183.16</td> \n",
       "</tr>\n",
       "<tr>\n",
       "  <th>converged:</th>             <td>True</td>       <th>  LL-Null:           </th> <td> -318.33</td> \n",
       "</tr>\n",
       "<tr>\n",
       "  <th>Covariance Type:</th>     <td>nonrobust</td>    <th>  LLR p-value:       </th> <td>8.354e-54</td>\n",
       "</tr>\n",
       "</table>\n",
       "<table class=\"simpletable\">\n",
       "<tr>\n",
       "               <td></td>                  <th>coef</th>     <th>std err</th>      <th>z</th>      <th>P>|z|</th>  <th>[0.025</th>    <th>0.975]</th>  \n",
       "</tr>\n",
       "<tr>\n",
       "  <th>clump_thickness</th>             <td>   -0.3973</td> <td>    0.070</td> <td>   -5.649</td> <td> 0.000</td> <td>   -0.535</td> <td>   -0.259</td>\n",
       "</tr>\n",
       "<tr>\n",
       "  <th>uniformity_of_cell_size</th>     <td>    0.8419</td> <td>    0.159</td> <td>    5.288</td> <td> 0.000</td> <td>    0.530</td> <td>    1.154</td>\n",
       "</tr>\n",
       "<tr>\n",
       "  <th>uniformity_of_cell_shape</th>    <td>    0.2573</td> <td>    0.141</td> <td>    1.819</td> <td> 0.069</td> <td>   -0.020</td> <td>    0.534</td>\n",
       "</tr>\n",
       "<tr>\n",
       "  <th>marginal_adhesion</th>           <td>   -0.0124</td> <td>    0.087</td> <td>   -0.142</td> <td> 0.887</td> <td>   -0.183</td> <td>    0.159</td>\n",
       "</tr>\n",
       "<tr>\n",
       "  <th>single_epithelial_cell_size</th> <td>   -0.7663</td> <td>    0.119</td> <td>   -6.446</td> <td> 0.000</td> <td>   -0.999</td> <td>   -0.533</td>\n",
       "</tr>\n",
       "<tr>\n",
       "  <th>bare_nuclei</th>                 <td>    0.6347</td> <td>    0.078</td> <td>    8.132</td> <td> 0.000</td> <td>    0.482</td> <td>    0.788</td>\n",
       "</tr>\n",
       "<tr>\n",
       "  <th>bland_chromatin</th>             <td>   -0.4445</td> <td>    0.106</td> <td>   -4.186</td> <td> 0.000</td> <td>   -0.653</td> <td>   -0.236</td>\n",
       "</tr>\n",
       "<tr>\n",
       "  <th>normal_nucleoli</th>             <td>    0.3427</td> <td>    0.089</td> <td>    3.829</td> <td> 0.000</td> <td>    0.167</td> <td>    0.518</td>\n",
       "</tr>\n",
       "<tr>\n",
       "  <th>mitoses</th>                     <td>   -0.2529</td> <td>    0.107</td> <td>   -2.372</td> <td> 0.018</td> <td>   -0.462</td> <td>   -0.044</td>\n",
       "</tr>\n",
       "</table>"
      ],
      "text/plain": [
       "<class 'statsmodels.iolib.summary.Summary'>\n",
       "\"\"\"\n",
       "                           Logit Regression Results                           \n",
       "==============================================================================\n",
       "Dep. Variable:                  class   No. Observations:                  489\n",
       "Model:                          Logit   Df Residuals:                      480\n",
       "Method:                           MLE   Df Model:                            8\n",
       "Date:                Tue, 14 Apr 2020   Pseudo R-squ.:                  0.4246\n",
       "Time:                        14:47:48   Log-Likelihood:                -183.16\n",
       "converged:                       True   LL-Null:                       -318.33\n",
       "Covariance Type:            nonrobust   LLR p-value:                 8.354e-54\n",
       "===============================================================================================\n",
       "                                  coef    std err          z      P>|z|      [0.025      0.975]\n",
       "-----------------------------------------------------------------------------------------------\n",
       "clump_thickness                -0.3973      0.070     -5.649      0.000      -0.535      -0.259\n",
       "uniformity_of_cell_size         0.8419      0.159      5.288      0.000       0.530       1.154\n",
       "uniformity_of_cell_shape        0.2573      0.141      1.819      0.069      -0.020       0.534\n",
       "marginal_adhesion              -0.0124      0.087     -0.142      0.887      -0.183       0.159\n",
       "single_epithelial_cell_size    -0.7663      0.119     -6.446      0.000      -0.999      -0.533\n",
       "bare_nuclei                     0.6347      0.078      8.132      0.000       0.482       0.788\n",
       "bland_chromatin                -0.4445      0.106     -4.186      0.000      -0.653      -0.236\n",
       "normal_nucleoli                 0.3427      0.089      3.829      0.000       0.167       0.518\n",
       "mitoses                        -0.2529      0.107     -2.372      0.018      -0.462      -0.044\n",
       "===============================================================================================\n",
       "\"\"\""
      ]
     },
     "execution_count": 19,
     "metadata": {},
     "output_type": "execute_result"
    }
   ],
   "source": [
    "import statsmodels.api as sm\n",
    "stats_log_reg= sm.Logit(y_train, X_train)\n",
    "result= stats_log_reg.fit()\n",
    "result.summary()"
   ]
  },
  {
   "cell_type": "code",
   "execution_count": 20,
   "metadata": {},
   "outputs": [],
   "source": [
    "preds= result.predict(X_test)\n"
   ]
  },
  {
   "cell_type": "markdown",
   "metadata": {},
   "source": [
    "2 of our features have a P-value greater than 0.05 namely;\n",
    "* uniformity_of_cell_shape\n",
    "* marginal_adhesion\n",
    "\n",
    "I'll now remove them."
   ]
  },
  {
   "cell_type": "code",
   "execution_count": 21,
   "metadata": {},
   "outputs": [],
   "source": [
    "to_drop=['uniformity_of_cell_shape', 'marginal_adhesion']\n",
    "X_train_new= X_train.drop(to_drop, axis=1)\n",
    "X_test_new= X_test.drop(to_drop, axis=1)\n"
   ]
  },
  {
   "cell_type": "code",
   "execution_count": 22,
   "metadata": {},
   "outputs": [
    {
     "name": "stdout",
     "output_type": "stream",
     "text": [
      "Optimization terminated successfully.\n",
      "         Current function value: 0.378184\n",
      "         Iterations 8\n"
     ]
    },
    {
     "data": {
      "text/html": [
       "<table class=\"simpletable\">\n",
       "<caption>Logit Regression Results</caption>\n",
       "<tr>\n",
       "  <th>Dep. Variable:</th>         <td>class</td>      <th>  No. Observations:  </th>  <td>   489</td>  \n",
       "</tr>\n",
       "<tr>\n",
       "  <th>Model:</th>                 <td>Logit</td>      <th>  Df Residuals:      </th>  <td>   482</td>  \n",
       "</tr>\n",
       "<tr>\n",
       "  <th>Method:</th>                 <td>MLE</td>       <th>  Df Model:          </th>  <td>     6</td>  \n",
       "</tr>\n",
       "<tr>\n",
       "  <th>Date:</th>            <td>Tue, 14 Apr 2020</td> <th>  Pseudo R-squ.:     </th>  <td>0.4191</td>  \n",
       "</tr>\n",
       "<tr>\n",
       "  <th>Time:</th>                <td>14:47:48</td>     <th>  Log-Likelihood:    </th> <td> -184.93</td> \n",
       "</tr>\n",
       "<tr>\n",
       "  <th>converged:</th>             <td>True</td>       <th>  LL-Null:           </th> <td> -318.33</td> \n",
       "</tr>\n",
       "<tr>\n",
       "  <th>Covariance Type:</th>     <td>nonrobust</td>    <th>  LLR p-value:       </th> <td>1.052e-54</td>\n",
       "</tr>\n",
       "</table>\n",
       "<table class=\"simpletable\">\n",
       "<tr>\n",
       "               <td></td>                  <th>coef</th>     <th>std err</th>      <th>z</th>      <th>P>|z|</th>  <th>[0.025</th>    <th>0.975]</th>  \n",
       "</tr>\n",
       "<tr>\n",
       "  <th>clump_thickness</th>             <td>   -0.3659</td> <td>    0.067</td> <td>   -5.488</td> <td> 0.000</td> <td>   -0.497</td> <td>   -0.235</td>\n",
       "</tr>\n",
       "<tr>\n",
       "  <th>uniformity_of_cell_size</th>     <td>    1.0077</td> <td>    0.127</td> <td>    7.957</td> <td> 0.000</td> <td>    0.760</td> <td>    1.256</td>\n",
       "</tr>\n",
       "<tr>\n",
       "  <th>single_epithelial_cell_size</th> <td>   -0.7559</td> <td>    0.116</td> <td>   -6.495</td> <td> 0.000</td> <td>   -0.984</td> <td>   -0.528</td>\n",
       "</tr>\n",
       "<tr>\n",
       "  <th>bare_nuclei</th>                 <td>    0.6487</td> <td>    0.077</td> <td>    8.439</td> <td> 0.000</td> <td>    0.498</td> <td>    0.799</td>\n",
       "</tr>\n",
       "<tr>\n",
       "  <th>bland_chromatin</th>             <td>   -0.4458</td> <td>    0.104</td> <td>   -4.306</td> <td> 0.000</td> <td>   -0.649</td> <td>   -0.243</td>\n",
       "</tr>\n",
       "<tr>\n",
       "  <th>normal_nucleoli</th>             <td>    0.3560</td> <td>    0.087</td> <td>    4.092</td> <td> 0.000</td> <td>    0.186</td> <td>    0.527</td>\n",
       "</tr>\n",
       "<tr>\n",
       "  <th>mitoses</th>                     <td>   -0.2427</td> <td>    0.103</td> <td>   -2.357</td> <td> 0.018</td> <td>   -0.444</td> <td>   -0.041</td>\n",
       "</tr>\n",
       "</table>"
      ],
      "text/plain": [
       "<class 'statsmodels.iolib.summary.Summary'>\n",
       "\"\"\"\n",
       "                           Logit Regression Results                           \n",
       "==============================================================================\n",
       "Dep. Variable:                  class   No. Observations:                  489\n",
       "Model:                          Logit   Df Residuals:                      482\n",
       "Method:                           MLE   Df Model:                            6\n",
       "Date:                Tue, 14 Apr 2020   Pseudo R-squ.:                  0.4191\n",
       "Time:                        14:47:48   Log-Likelihood:                -184.93\n",
       "converged:                       True   LL-Null:                       -318.33\n",
       "Covariance Type:            nonrobust   LLR p-value:                 1.052e-54\n",
       "===============================================================================================\n",
       "                                  coef    std err          z      P>|z|      [0.025      0.975]\n",
       "-----------------------------------------------------------------------------------------------\n",
       "clump_thickness                -0.3659      0.067     -5.488      0.000      -0.497      -0.235\n",
       "uniformity_of_cell_size         1.0077      0.127      7.957      0.000       0.760       1.256\n",
       "single_epithelial_cell_size    -0.7559      0.116     -6.495      0.000      -0.984      -0.528\n",
       "bare_nuclei                     0.6487      0.077      8.439      0.000       0.498       0.799\n",
       "bland_chromatin                -0.4458      0.104     -4.306      0.000      -0.649      -0.243\n",
       "normal_nucleoli                 0.3560      0.087      4.092      0.000       0.186       0.527\n",
       "mitoses                        -0.2427      0.103     -2.357      0.018      -0.444      -0.041\n",
       "===============================================================================================\n",
       "\"\"\""
      ]
     },
     "execution_count": 22,
     "metadata": {},
     "output_type": "execute_result"
    }
   ],
   "source": [
    "stats_log_reg= sm.Logit(y_train, X_train_new)\n",
    "result2= stats_log_reg.fit()\n",
    "result2.summary()"
   ]
  },
  {
   "cell_type": "code",
   "execution_count": 23,
   "metadata": {},
   "outputs": [
    {
     "name": "stderr",
     "output_type": "stream",
     "text": [
      "/home/masai/anaconda3/lib/python3.7/site-packages/sklearn/linear_model/logistic.py:432: FutureWarning: Default solver will be changed to 'lbfgs' in 0.22. Specify a solver to silence this warning.\n",
      "  FutureWarning)\n"
     ]
    }
   ],
   "source": [
    "log_reg2= LogisticRegression()\n",
    "log_reg2.fit(X_train_new, y_train)\n",
    "y_preds2= log_reg2.predict(X_test_new)"
   ]
  },
  {
   "cell_type": "code",
   "execution_count": 24,
   "metadata": {},
   "outputs": [
    {
     "name": "stdout",
     "output_type": "stream",
     "text": [
      "Perfomance on the test set:\n",
      "[[140   5]\n",
      " [  3  62]]\n",
      "\n",
      "accuracy: 0.9619047619047619\n",
      "recall: 0.9538461538461539\n",
      "f1 score: 0.9393939393939394\n"
     ]
    }
   ],
   "source": [
    "print('Perfomance on the test set:')\n",
    "train_preds= log_reg2.predict(X_train_new)\n",
    "print(confusion_matrix(y_preds2, y_test))\n",
    "print('')\n",
    "\n",
    "print(f'accuracy: {accuracy_score(y_test, y_preds2)}')\n",
    "print(f'recall: {recall_score( y_preds2, y_test)}')\n",
    "print(f'f1 score: {f1_score( y_preds2, y_test)}')"
   ]
  },
  {
   "cell_type": "markdown",
   "metadata": {},
   "source": [
    "After having removed the 2 features which had a high p-value (probability of being random), we see that our model's perfomance has not changed much. The perfomance has slightly decreased on the training set as seen by the increase in the values on the diagonal from bottom right to top right on the confusion matrix. This signifies the increase in False predictions. \n",
    "\n",
    "Nonetheless, the overall f1-score is still great so the model performs really well."
   ]
  },
  {
   "cell_type": "markdown",
   "metadata": {},
   "source": [
    "## Perfomance on training"
   ]
  },
  {
   "cell_type": "code",
   "execution_count": 25,
   "metadata": {},
   "outputs": [
    {
     "name": "stdout",
     "output_type": "stream",
     "text": [
      "Perfomance on the training set:\n",
      "[[308  10]\n",
      " [  7 164]]\n",
      "\n",
      "accuracy: 0.9652351738241309\n",
      "recall: 0.9590643274853801\n",
      "f1 score: 0.9507246376811593\n"
     ]
    }
   ],
   "source": [
    "print('Perfomance on the training set:')\n",
    "train_preds= log_reg2.predict(X_train_new)\n",
    "print(confusion_matrix(train_preds, y_train))\n",
    "print('')\n",
    "\n",
    "print(f'accuracy: {accuracy_score(y_train, train_preds)}')\n",
    "print(f'recall: {recall_score( train_preds, y_train)}')\n",
    "print(f'f1 score: {f1_score( train_preds, y_train)}')"
   ]
  },
  {
   "cell_type": "markdown",
   "metadata": {},
   "source": [
    "As expected, the model performs just slightly better on the training set as this is data the model has already seen before. \n",
    "\n",
    "The model is perfect, in the sense that it is not overfitting or underfitting the training data."
   ]
  },
  {
   "cell_type": "markdown",
   "metadata": {},
   "source": [
    "# classification report"
   ]
  },
  {
   "cell_type": "code",
   "execution_count": 26,
   "metadata": {},
   "outputs": [
    {
     "name": "stdout",
     "output_type": "stream",
     "text": [
      "              precision    recall  f1-score   support\n",
      "\n",
      "           0       0.97      0.98      0.97       143\n",
      "           1       0.95      0.93      0.94        67\n",
      "\n",
      "    accuracy                           0.96       210\n",
      "   macro avg       0.96      0.95      0.96       210\n",
      "weighted avg       0.96      0.96      0.96       210\n",
      "\n"
     ]
    }
   ],
   "source": [
    "from sklearn.metrics import classification_report\n",
    "print(classification_report(y_test, y_preds2))"
   ]
  },
  {
   "cell_type": "markdown",
   "metadata": {},
   "source": [
    "# ROC\n",
    "The Receiver Operating Characteristic is a good tool to evaluate our classifier. It plots the true positive rate against the False Positive Rate."
   ]
  },
  {
   "cell_type": "code",
   "execution_count": 27,
   "metadata": {},
   "outputs": [],
   "source": [
    "from sklearn.metrics import roc_curve\n",
    "y_scores= log_reg2.decision_function(X_test_new)\n",
    "fpr, tpr, thresholds= roc_curve(y_test, y_scores)"
   ]
  },
  {
   "cell_type": "code",
   "execution_count": 28,
   "metadata": {},
   "outputs": [
    {
     "data": {
      "image/png": "[encoded data removed]",
      "text/plain": [
       "<Figure size 432x288 with 1 Axes>"
      ]
     },
     "metadata": {
      "needs_background": "light"
     },
     "output_type": "display_data"
    }
   ],
   "source": [
    "plt.title('ROC (Receiver Operating Characteristic)')\n",
    "plt.plot(fpr, tpr)\n",
    "plt.plot([0,1], [0,1], 'k--')\n",
    "plt.xlabel('false positive rate')\n",
    "plt.ylabel('true positive rate (recall)')\n",
    "plt.show()"
   ]
  },
  {
   "cell_type": "markdown",
   "metadata": {},
   "source": [
    "from the ROC curve plotted above, it is seen that once our recall rate climbs above 60% we start to get an increase in the false positive rate. This model performs very well as we can see that it is very far away from the dotted line across the centre which represents a purely random classifier."
   ]
  },
  {
   "cell_type": "markdown",
   "metadata": {},
   "source": [
    "## Feature importance"
   ]
  },
  {
   "cell_type": "code",
   "execution_count": 29,
   "metadata": {},
   "outputs": [
    {
     "data": {
      "image/png": "[encoded data removed]",
      "text/plain": [
       "<Figure size 432x288 with 1 Axes>"
      ]
     },
     "metadata": {
      "needs_background": "light"
     },
     "output_type": "display_data"
    }
   ],
   "source": [
    "feature_importance = abs(log_reg2.coef_[0])\n",
    "feature_importance = 100.0 * (feature_importance / feature_importance.max())\n",
    "#feature_importance=feature_importance/feature_importance.max()*100\n",
    "sns.barplot(y=X_train_new.columns, x=feature_importance)\n",
    "plt.show()"
   ]
  },
  {
   "cell_type": "markdown",
   "metadata": {},
   "source": [
    "# Overdispersion\n",
    "\n",
    "This is found whereby the variance in your data is higher than the mean, whilst the Poisson distribution has variance equal to the mean.\n"
   ]
  },
  {
   "cell_type": "markdown",
   "metadata": {},
   "source": [
    "# Conclusion\n",
    "the perfomance of the model is really impressive for predicting whether a patient has cancer or not. It will correctly do so about 96% of the time. This is a tool even medical practitioners may even use to speed up the process of diagnosing patients. Hopefully using other models we can push it up to 99% accuracy."
   ]
  }
 ],
 "metadata": {
  "kernelspec": {
   "display_name": "Python 3",
   "language": "python",
   "name": "python3"
  },
  "language_info": {
   "codemirror_mode": {
    "name": "ipython",
    "version": 3
   },
   "file_extension": ".py",
   "mimetype": "text/x-python",
   "name": "python",
   "nbconvert_exporter": "python",
   "pygments_lexer": "ipython3",
   "version": "3.7.3"
  }
 },
 "nbformat": 4,
 "nbformat_minor": 2
}
